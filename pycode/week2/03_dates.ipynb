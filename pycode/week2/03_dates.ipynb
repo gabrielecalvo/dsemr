{
 "cells": [
  {
   "cell_type": "code",
   "execution_count": null,
   "metadata": {},
   "outputs": [],
   "source": [
    "# the following line will install pandas if not already installed\n",
    "!pip install pandas"
   ]
  },
  {
   "cell_type": "markdown",
   "metadata": {},
   "source": [
    "# Dates in Python\n",
    "\n",
    "When working with dates, `pandas` has a very useful class: `Timestamp`. It allows the conversion of text to datetime objects "
   ]
  },
  {
   "cell_type": "code",
   "execution_count": null,
   "metadata": {},
   "outputs": [],
   "source": [
    "import pandas as pd\n",
    "\n",
    "course_start = pd.Timestamp(\"15 October 2018\")\n",
    "course_start = pd.Timestamp(\"Monday, 15 October 2018\")       # Also works, dmy simply ignores the weekday\n",
    "course_start = pd.Timestamp(\"2018/10/15\")\n",
    "\n",
    "course_start"
   ]
  },
  {
   "cell_type": "markdown",
   "metadata": {},
   "source": [
    "We can also specify the date and time."
   ]
  },
  {
   "cell_type": "code",
   "execution_count": null,
   "metadata": {},
   "outputs": [],
   "source": [
    "course_start = pd.Timestamp(\"15 October 2018 9:00:00\")\n",
    "course_start"
   ]
  },
  {
   "cell_type": "markdown",
   "metadata": {},
   "source": [
    "# Dates from separate variables for the components\n",
    "\n",
    "Sometimes, the date is available as separate variables (or columns in a dataset). We can then create a date (or datetime) object using"
   ]
  },
  {
   "cell_type": "code",
   "execution_count": null,
   "metadata": {},
   "outputs": [],
   "source": [
    "course_end = pd.Timestamp(2018, 11, 25, 23, 59, 59)\n",
    "course_end"
   ]
  },
  {
   "cell_type": "markdown",
   "metadata": {},
   "source": [
    "We can also include time zone information (e.g. tz=\"Europe/London\"), but we will not at this in more detail."
   ]
  },
  {
   "cell_type": "markdown",
   "metadata": {},
   "source": [
    "# Relative dates\n",
    "\n",
    "We can also specify dates relative to one another, so we could have used the `DateOffset` class"
   ]
  },
  {
   "cell_type": "code",
   "execution_count": null,
   "metadata": {},
   "outputs": [],
   "source": [
    "course_end = pd.Timestamp(2018, 11, 26) - pd.DateOffset(seconds=1)\n",
    "course_end"
   ]
  },
  {
   "cell_type": "markdown",
   "metadata": {},
   "source": [
    "# Decimal dates\n",
    "\n",
    "There is no built-in function to calculate the decimal year. We can create one and use it like this"
   ]
  },
  {
   "cell_type": "code",
   "execution_count": null,
   "metadata": {},
   "outputs": [],
   "source": [
    "def decimal_date(dt):\n",
    "    year_start = dt - pd.DateOffset(month=1, day=1, hour=0, minute=0, second=0)\n",
    "    year_end = year_start - pd.DateOffset(years=1)\n",
    "    return dt.year + (dt-year_start)/(year_start-year_end)\n",
    "\n",
    "decimal_date(course_end)"
   ]
  },
  {
   "cell_type": "markdown",
   "metadata": {},
   "source": [
    "We can go the other way round using"
   ]
  },
  {
   "cell_type": "code",
   "execution_count": null,
   "metadata": {},
   "outputs": [],
   "source": [
    "def date_decimal(d): \n",
    "    year_int = int(d)\n",
    "    year_fraction = d - year_int\n",
    "    year_start = pd.Timestamp(year_int,1,1)\n",
    "    year_end = year_start + pd.DateOffset(years=1)\n",
    "    dt = year_start + year_fraction*(year_end-year_start)\n",
    "    return dt.round('1s')\n",
    "\n",
    "date_decimal(2018.901369831304)"
   ]
  },
  {
   "cell_type": "markdown",
   "metadata": {},
   "source": [
    "# Periods, durations and intervals\n",
    "To find out the length a time period we can simply subtract datetimes, and then divide by the unit we want to obtain."
   ]
  },
  {
   "cell_type": "code",
   "execution_count": null,
   "metadata": {},
   "outputs": [],
   "source": [
    "course_end - course_start"
   ]
  },
  {
   "cell_type": "code",
   "execution_count": null,
   "metadata": {},
   "outputs": [],
   "source": [
    "(course_end - course_start) / pd.np.timedelta64(1,'Y')\n",
    "# numpy (np), on which pandas depends, uses an year of 365.25.. instead of just 365"
   ]
  },
  {
   "cell_type": "code",
   "execution_count": null,
   "metadata": {},
   "outputs": [],
   "source": [
    "(course_end - course_start) / pd.np.timedelta64(1,'W')"
   ]
  },
  {
   "cell_type": "code",
   "execution_count": null,
   "metadata": {},
   "outputs": [],
   "source": []
  }
 ],
 "metadata": {
  "kernelspec": {
   "display_name": "Python 3",
   "language": "python",
   "name": "python3"
  },
  "language_info": {
   "codemirror_mode": {
    "name": "ipython",
    "version": 3
   },
   "file_extension": ".py",
   "mimetype": "text/x-python",
   "name": "python",
   "nbconvert_exporter": "python",
   "pygments_lexer": "ipython3",
   "version": "3.7.3"
  }
 },
 "nbformat": 4,
 "nbformat_minor": 4
}
